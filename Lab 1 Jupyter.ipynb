{
 "cells": [
  {
   "attachments": {},
   "cell_type": "markdown",
   "metadata": {},
   "source": [
    "# Universidad Galileo Galilei\n",
    "## Ciencia de Datos en Python\n",
    "### LABORATORIO 1 - Daniel Pedro Pablo Alvarez Vielman"
   ]
  }
 ],
 "metadata": {
  "language_info": {
   "name": "python"
  },
  "orig_nbformat": 4
 },
 "nbformat": 4,
 "nbformat_minor": 2
}
