{
 "cells": [
  {
   "attachments": {},
   "cell_type": "markdown",
   "metadata": {},
   "source": [
    "# Universidad Galileo Galilei\n",
    "## Ciencia de Datos en Python\n",
    "### LABORATORIO 1 - Daniel Pedro Pablo Alvarez Vielman"
   ]
  },
  {
   "attachments": {},
   "cell_type": "markdown",
   "metadata": {},
   "source": [
    "##### GIT es un sistema de control de versiones. Basicamente es un lugar para poder almacenar un codigo de manera y segura. GIT es un software que permite registrar todo el historial de cambios de un proyecto. Este sistema surgio debido al problema que ocurria durante los proyectos cuando el cliente solicitaba cambios, y al querer llevar un registro del historial de las modificaciones, no se tenía un orden (figura 1)."
   ]
  },
  {
   "attachments": {},
   "cell_type": "markdown",
   "metadata": {},
   "source": [
    "<img src = 'version error.png'>"
   ]
  },
  {
   "attachments": {},
   "cell_type": "markdown",
   "metadata": {},
   "source": [
    "**Imagen 1** Proyecto con varias versiones."
   ]
  },
  {
   "attachments": {},
   "cell_type": "markdown",
   "metadata": {},
   "source": [
    "##### Para comprender de mejor manera todo lo relacionado a GIT se debe tener en cuenta los siguientes términos:"
   ]
  },
  {
   "attachments": {},
   "cell_type": "markdown",
   "metadata": {},
   "source": [
    "1. Repositorio: Es todo proyecto que esta siendo almacendao virtualmente por GIT, es decir, permite guardar o almacenar versiones del codigo las cuales se podran acceder cuando sea requerido.\n",
    "2. Commit: Un commit es cada de los cambios registrados en el historial de GIT. Cada uno de los desarrolladores manda los commits de los cambios que ha hecho.\n",
    "3. Ramas (Branch): Las ramas son ramificaciones o nuevos caminos que toma el proyecto. Y nos permite ver el estado del código en algún momento. En GIT, hay una rama que es el la principal o máster donde está el proyecto que sale al público. \n",
    "\n",
    "Cada vez que se requiera trabajar en una caracteristica nueva o se desee corregir algo se obtiene nueva una rama, de tal manera que se puede trabajar de una manera aislada. Cada rama tiene una copia exacta del proyecto pero separada. \n",
    "\n",
    "Por lo que si se trabaja en ese ambiente separado y ocurre algún error dentro del proyecto, no se compremeterá el proyecto principal. Y si todo funciona correctamente, esa rama se unificará con el proyecto principal. Para utilizar las ramas en GIT se debe emplear el comando **git branch**.\n",
    "\n"
   ]
  },
  {
   "attachments": {},
   "cell_type": "markdown",
   "metadata": {},
   "source": [
    "<img src = 'Ramas.png'>"
   ]
  },
  {
   "attachments": {},
   "cell_type": "markdown",
   "metadata": {},
   "source": [
    "**Imagen 2** Representación gráfica del concepto \"Ramas (Branch)"
   ]
  },
  {
   "attachments": {},
   "cell_type": "markdown",
   "metadata": {},
   "source": [
    "4. Git Push: Permite subir los commits desde la rama local en el repositorio git local al repositorio remoto.\n",
    "5. Git Pull: Es empleado para extraer y descargar contenido desde un repositorio remoto y actualizar de forma inmediate el repositorio local para reflejar ese contenido.\n",
    "6. Clon: Un clon es una copia exacta del repositorio, cuando un programador se integra a un equipo de trabajo lo primero que debe hacer es clonar el repositorio en su equipo local, entonces cada uno de los desarrolladores tiene un clon del repositorio en su equipo local.\n",
    "7. Fork: Un fork a diferencia de un clon o una rama es un proyecto completamente diferenta que se crea a partir de otro. Es decir, se basó en lo que habia trabajao otro proyecto."
   ]
  }
 ],
 "metadata": {
  "language_info": {
   "name": "python"
  },
  "orig_nbformat": 4
 },
 "nbformat": 4,
 "nbformat_minor": 2
}
