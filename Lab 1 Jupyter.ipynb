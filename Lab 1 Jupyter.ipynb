{
 "cells": [
  {
   "attachments": {},
   "cell_type": "markdown",
   "metadata": {},
   "source": [
    "# Universidad Galileo Galilei\n",
    "## Ciencia de Datos en Python\n",
    "### LABORATORIO 1 - Daniel Pedro Pablo Alvarez Vielman"
   ]
  },
  {
   "attachments": {},
   "cell_type": "markdown",
   "metadata": {},
   "source": [
    "##### GIT es un sistema de control de versiones. Basicamente es un lugar para poder almacenar un codigo de manera y segura. GIT es un software que permite registrar todo el historial de cambios de un proyecto. Este sistema surgio debido al problema que ocurria durante los proyectos cuando el cliente solicitaba cambios, y al querer llevar un registro del historial de las modificaciones, no se tenía un orden (figura 1)."
   ]
  },
  {
   "attachments": {},
   "cell_type": "markdown",
   "metadata": {},
   "source": [
    "<img src = 'version error.png'>"
   ]
  },
  {
   "attachments": {},
   "cell_type": "markdown",
   "metadata": {},
   "source": []
  }
 ],
 "metadata": {
  "language_info": {
   "name": "python"
  },
  "orig_nbformat": 4
 },
 "nbformat": 4,
 "nbformat_minor": 2
}
