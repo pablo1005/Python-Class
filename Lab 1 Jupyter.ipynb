{
 "cells": [
  {
   "attachments": {},
   "cell_type": "markdown",
   "metadata": {},
   "source": [
    "# Universidad Galileo Galilei\n",
    "## Ciencia de Datos en Python\n",
    "### LABORATORIO 1 - Daniel Pedro Pablo Alvarez Vielman"
   ]
  },
  {
   "attachments": {},
   "cell_type": "markdown",
   "metadata": {},
   "source": [
    "##### GIT es un sistema de control de versiones. Básicamente es un lugar para poder almacenar un código de manera y segura. GIT es un software que permite registrar todo el historial de cambios de un proyecto. Este sistema surgió debido al problema que ocurria durante los proyectos cuando el cliente solicitaba cambios, y al querer llevar un registro del historial de las modificaciones, no se tenía un orden (figura 1)."
   ]
  },
  {
   "attachments": {},
   "cell_type": "markdown",
   "metadata": {},
   "source": [
    "<img src = 'version error.png'>"
   ]
  },
  {
   "attachments": {},
   "cell_type": "markdown",
   "metadata": {},
   "source": [
    "**Imagen 1** Proyecto con varias versiones."
   ]
  },
  {
   "attachments": {},
   "cell_type": "markdown",
   "metadata": {},
   "source": [
    "##### Para comprender de mejor manera todo lo relacionado a GIT se debe tener en cuenta los siguientes términos:"
   ]
  },
  {
   "attachments": {},
   "cell_type": "markdown",
   "metadata": {},
   "source": [
    "1. == Repositorio:  Es todo proyecto que esta siendo almacendao virtualmente por GIT, es decir, permite guardar o almacenar versiones del codigo las cuales se podran acceder cuando sea requerido.\n",
    "2. Commit: Un commit es cada de los cambios registrados en el historial de GIT. Cada uno de los desarrolladores manda los commits de los cambios que ha hecho.\n",
    "3. Ramas (Branch): Las ramas son ramificaciones o nuevos caminos que toma el proyecto. Y nos permite ver el estado del código en algún momento. En GIT, hay una rama que es el la principal o máster donde está el proyecto que sale al público. \n",
    "\n",
    "Cada vez que se requiera trabajar en una caracteristica nueva o se desee corregir algo se obtiene nueva una rama, de tal manera que se puede trabajar de una manera aislada. Cada rama tiene una copia exacta del proyecto pero separada. \n",
    "\n",
    "Por lo que si se trabaja en ese ambiente separado y ocurre algún error dentro del proyecto, no se compremeterá el proyecto principal. Y si todo funciona correctamente, esa rama se unificará con el proyecto principal. Para utilizar las ramas en GIT se debe emplear el comando *git branch*.\n",
    "\n"
   ]
  },
  {
   "attachments": {},
   "cell_type": "markdown",
   "metadata": {},
   "source": [
    "<img src = 'Ramas.png'>"
   ]
  },
  {
   "attachments": {},
   "cell_type": "markdown",
   "metadata": {},
   "source": [
    "**Imagen 2** Representación gráfica del concepto \"Ramas (Branch)"
   ]
  },
  {
   "attachments": {},
   "cell_type": "markdown",
   "metadata": {},
   "source": [
    "4. Git Push: Permite subir los commits desde la rama local en el repositorio git local al repositorio remoto.\n",
    "5. Git Pull: Es empleado para extraer y descargar contenido desde un repositorio remoto y actualizar de forma inmediate el repositorio local para reflejar ese contenido.\n",
    "6. Clon: Un clon es una copia exacta del repositorio, cuando un programador se integra a un equipo de trabajo lo primero que debe hacer es clonar el repositorio en su equipo local, entonces cada uno de los desarrolladores tiene un clon del repositorio en su equipo local.\n",
    "7. Fork: Un fork a diferencia de un clon o una rama es un proyecto completamente diferenta que se crea a partir de otro. Es decir, se basó en lo que habia trabajao otro proyecto."
   ]
  },
  {
   "attachments": {},
   "cell_type": "markdown",
   "metadata": {},
   "source": [
    "#### **Características:**"
   ]
  },
  {
   "attachments": {},
   "cell_type": "markdown",
   "metadata": {},
   "source": [
    "* GIT es distribuido esto quiere decir que cada uno de los desarrolladores tendrá una copia idéntica del repositorio en su equipo local. Esto lo que permite es que no sea necesario que se tenga que conectar a un servidor central o tener conexión a Internet, lo que hace que sea rápido el acceso y cada desarrollador tiene un back up en caso de que surja un inconveniente.\n",
    "* Tiene Ramas y Fusiones (Branch y Merge): Las ramas son nuevos caminos o ramificaciones que toma el proyecto para no comprometer a la rama principal, por lo que para nuevas caracteristicas, corregir cosas, hacer pruebas, etc. se van creando diferentes ramas. Sin embargo, posteriormente esas ramas deberán intregarse a la rama principal, es decir, se toman y el programador trabajará en una característica, y una vez que la termina tiene que integrar esa rama con la rama principal y eso es llamado fusion o merge.\n",
    "* Integridad de datos: GIT agrega un checksum, es decir, una suma de comprobación a cada uno de los archivos y de los commits, de tal manera que hay una seguridad de que cada uno de los desarrolladores tengan los mismos datos que los demás. Porque sino se habria datos corruptos que podrian provocar grandes problemas."
   ]
  },
  {
   "attachments": {},
   "cell_type": "markdown",
   "metadata": {},
   "source": [
    "**Flujo de trabajo:** La secuencia básica para trabajar en un proyecto por medio del sistema GIT es el siguiente:"
   ]
  },
  {
   "attachments": {},
   "cell_type": "markdown",
   "metadata": {},
   "source": [
    "* Llega un desarrollador que va a trabajar con el proyecto y lo primero que tiene que hacer el repositorio. Hay 2 formas de crear este repositorio:\n",
    "    - Git init: Si es nuevo desde cero.\n",
    "\t- Git clone: Si es un repositorio que ya existe.\n",
    "* Cuando el desarrollador tiene su repositorio local, lo que tiene que hacer es empezar a trabajar y enviar sus cambios al repositorio a traves de commits. Cada vez que el programador hace un cambio, no se guarda en el repositorio. De forma manual hay que enviar los commits porque cada commit debería representar una funcionalidad específica, por ejemplo, un cambio en la interfaz, una nueva funcionalidad, la corrección de un problema, etc. pero cada commit debe representar algo específico, entonces el programadaor debe escribir de que se trata el commit. \n",
    "\tSin embargo, los cambios del programador no van directamente al \trepositorio sino que hay una etapa hay una etapa intermedia llamada \t\"stagin area\" o área de preparación.\n",
    "\tPor lo que cuando se están realizando cambios para corregir un error en el \tcódigo y se debe tocar 4 o 5 archivos entonces estos se deben enviar al \t\"stagin area\" con el \tcomando *git add*. No se envían directo al repositorio \thasta que se esté seguro de que ya se realizaron las modificiaciones en \ttodos los archivos necesarios mientras tanto están en espera en el \"Stagin \tArea\". \n",
    "* Una vez que se encuentran en el \"stagin area\", se envían los cambios al repositorio con el comando *git commit* y, se agrega un mensaje de que se está haciendo.\n"
   ]
  },
  {
   "attachments": {},
   "cell_type": "markdown",
   "metadata": {},
   "source": [
    "Cuando el proyexto se realiza en forma de equipo, lo normal es crear 2 ramas. Una que se llame master (proyecto principal), y otra rama llamada Dev, con esa rama es con la que se va a trabajar. Desde la rama Dev cada uno de los desarrolladores va a sacar sus propias ramas para trabajar en lo que tengan asignado a cada uno y cuando se completen se deberán integrar nuevamente a la rama principal (Merge).\n",
    "\n",
    "En los merge pueden existir conflictos, entonces normalmente puede haber un líder de proyecto que revisará el proyecto y detectará los conflictos que puedan surigir. De igual manera, el programador será notificado e instruido para que resuelvan dichos conflictos.\n",
    "\n",
    "Lo importante es que todo eso se hace en Dev y no en master. Ya corrigiendo los conflictos, haciendo merge e integrando el trabajo en dev, quedaría por integrar dev a la rama master y quedaría actualizada, con todos los cambios que han hecho los programadores y es hora de madarlo a produccion.\n"
   ]
  },
  {
   "attachments": {},
   "cell_type": "markdown",
   "metadata": {},
   "source": [
    "### CONCLUSION\n",
    "\n",
    "En conclusión, como se mencionó en la conferencia [Lecture 6: Version Control](https://youtube.com/watch?v=2sjqTHE0zok&t=705s),  hoy en día el uso de software de control de versiones como lo es Git, es de suma importancia para el desarrollo de pequeños, medianos y grandes proyectos. Las empresas cada día buscan más la forma de ser más organizados, que puedan tener un mejor control en el código que se está desarrollando, en cualquier momento y en cualquier luga, por lo que Git se convierte en nuestra mejor herramienta y aliado a la hora de ejecutar proyectos en los que, ya sea que los trabajemos individual o conjuntamente, nos ahorrara tiempo y sobre todo a llevar un mejor control."
   ]
  }
 ],
 "metadata": {
  "language_info": {
   "name": "python"
  },
  "orig_nbformat": 4
 },
 "nbformat": 4,
 "nbformat_minor": 2
}
